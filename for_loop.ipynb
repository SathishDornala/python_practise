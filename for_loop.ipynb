{
 "cells": [
  {
   "cell_type": "code",
   "execution_count": 1,
   "id": "3f24a1db-8927-4f28-98b1-0fd09d7393fc",
   "metadata": {},
   "outputs": [
    {
     "name": "stdout",
     "output_type": "stream",
     "text": [
      "sum of the list: 60\n"
     ]
    }
   ],
   "source": [
    "numbers=[0,1,2,3,4,5,6,7,8,9,9,0,6];\n",
    "sum=0;\n",
    "for i in numbers:\n",
    " sum=sum+i;\n",
    "print(\"sum of the list:\",sum);"
   ]
  },
  {
   "cell_type": "code",
   "execution_count": 3,
   "id": "acd912e5-7dcb-4977-8236-2ca3991a7bba",
   "metadata": {},
   "outputs": [
    {
     "name": "stdout",
     "output_type": "stream",
     "text": [
      "sum of the list: 60\n"
     ]
    }
   ],
   "source": [
    "numbers=[0,1,2,3,4,5,6,7,8,9,9,0,6];\n",
    "sum=0;\n",
    "for i in numbers:\n",
    "    sum=sum+numbers[i];\n",
    "print(\"sum of the list:\",sum);"
   ]
  },
  {
   "cell_type": "code",
   "execution_count": 13,
   "id": "49d19928-12dd-4554-9b4e-9a511a5e4430",
   "metadata": {},
   "outputs": [
    {
     "name": "stdout",
     "output_type": "stream",
     "text": [
      "guru nanak instutions\n"
     ]
    }
   ],
   "source": [
    "string=\"guru nanak instutions\";\n",
    "for i in string:\n",
    "    print(i,end=\"\");\n",
    "print(\"\")"
   ]
  },
  {
   "cell_type": "code",
   "execution_count": 17,
   "id": "b59c2eef-4a11-435d-9e72-4dd5644abe21",
   "metadata": {},
   "outputs": [
    {
     "name": "stdout",
     "output_type": "stream",
     "text": [
      "0 1\n",
      "1 2\n",
      "2 3\n",
      "3 4\n",
      "4 jai\n",
      "[1, 2, 3, 4, 'jai', 1, 2, 3, 4, 'jai']\n"
     ]
    }
   ],
   "source": [
    "list1=[1,2,3,4,'jai'];\n",
    "for i in range(len(list1)):\n",
    "    print(i,list1[i]);\n",
    "    list1.append(list1[i]);\n",
    "print(list1);"
   ]
  },
  {
   "cell_type": "code",
   "execution_count": 19,
   "id": "3f12dae5-1265-482b-b9b5-661aa632538e",
   "metadata": {},
   "outputs": [
    {
     "name": "stdout",
     "output_type": "stream",
     "text": [
      "1\n",
      "2\n",
      "3\n",
      "4\n",
      "5\n",
      "6\n",
      "7\n",
      "[2, 4, 6, 8, 10, 12, 14]\n"
     ]
    }
   ],
   "source": [
    "a=[1,2,3,4,5,6,7];\n",
    "b=[];\n",
    "for i in range(len(a)):\n",
    "    b.append(a[i]*2);\n",
    "    print(a[i]);\n",
    "print(b);"
   ]
  },
  {
   "cell_type": "code",
   "execution_count": 43,
   "id": "d6dac5c6-8190-4198-a240-4bb97224585e",
   "metadata": {},
   "outputs": [
    {
     "name": "stdout",
     "output_type": "stream",
     "text": [
      "[9, 7, 10, 9, 10, 9, 10, 6, 9, 8]\n"
     ]
    }
   ],
   "source": [
    "import random;\n",
    "l=[];\n",
    "for i in range(10):\n",
    "    l.append(random.randint(5,10));\n",
    "print(l);"
   ]
  },
  {
   "cell_type": "code",
   "execution_count": 45,
   "id": "81d6277c-9ec9-4128-949c-9c1a2912d5a1",
   "metadata": {},
   "outputs": [
    {
     "name": "stdout",
     "output_type": "stream",
     "text": [
      "2\n",
      "3\n",
      "5\n",
      "7\n"
     ]
    }
   ],
   "source": [
    "def prime(num):\n",
    "    for i in range(1,num+1):\n",
    "        c=0;\n",
    "        for j in range(1,i+1):\n",
    "            if(i%j==0):\n",
    "                c=c+1;\n",
    "                # print(i);\n",
    "        if(c==2):\n",
    "            print(i);\n",
    "\n",
    "prime(9);"
   ]
  },
  {
   "cell_type": "code",
   "execution_count": 47,
   "id": "9bb6bb99-48ac-45c1-b873-81333a5915d4",
   "metadata": {},
   "outputs": [
    {
     "name": "stdout",
     "output_type": "stream",
     "text": [
      "not found\n",
      "not found\n",
      "not found\n",
      "not found\n",
      "5\n"
     ]
    }
   ],
   "source": [
    "l=[1,2,3,4,5];     \n",
    "for i in l:\n",
    "    if(i%5==0):\n",
    "        print(i);\n",
    "    else:\n",
    "        print(\"not found\");"
   ]
  },
  {
   "cell_type": "code",
   "execution_count": 49,
   "id": "f901c3f0-c7a9-481d-8b5c-09ce70532c4c",
   "metadata": {},
   "outputs": [
    {
     "name": "stdout",
     "output_type": "stream",
     "text": [
      "5\n"
     ]
    }
   ],
   "source": [
    "l=[5,2,3,4,5];     \n",
    "for i in l:\n",
    "    if(i%5==0):\n",
    "        print(i);\n",
    "        break;\n",
    "    else:\n",
    "        print(\"not found\");"
   ]
  },
  {
   "cell_type": "code",
   "execution_count": 51,
   "id": "5ec20c82-1c44-4457-965e-e79f6fdf2694",
   "metadata": {},
   "outputs": [
    {
     "name": "stdout",
     "output_type": "stream",
     "text": [
      "5\n"
     ]
    }
   ],
   "source": [
    "l=[5,2,3,4,5];     \n",
    "for i in l:\n",
    "    if(i%5==0):\n",
    "        print(i);\n",
    "        break;\n",
    "else:\n",
    "    print(\"not found\");"
   ]
  },
  {
   "cell_type": "code",
   "execution_count": null,
   "id": "170238da-82ab-4aed-8018-b0096f977897",
   "metadata": {},
   "outputs": [],
   "source": []
  }
 ],
 "metadata": {
  "kernelspec": {
   "display_name": "Python 3 (ipykernel)",
   "language": "python",
   "name": "python3"
  },
  "language_info": {
   "codemirror_mode": {
    "name": "ipython",
    "version": 3
   },
   "file_extension": ".py",
   "mimetype": "text/x-python",
   "name": "python",
   "nbconvert_exporter": "python",
   "pygments_lexer": "ipython3",
   "version": "3.11.5"
  }
 },
 "nbformat": 4,
 "nbformat_minor": 5
}
