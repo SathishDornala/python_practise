{
 "cells": [
  {
   "cell_type": "code",
   "execution_count": 1,
   "id": "7671edc6-d3a3-46ed-8e16-9f61ba66d838",
   "metadata": {},
   "outputs": [
    {
     "name": "stdout",
     "output_type": "stream",
     "text": [
      "hai python coder!! <class 'str'>\n"
     ]
    }
   ],
   "source": [
    "str=\"hai python coder!!\";\n",
    "print(str,type(str))\n"
   ]
  },
  {
   "cell_type": "code",
   "execution_count": 3,
   "id": "d8ecc905-2901-403d-bb07-742cd71c3b12",
   "metadata": {},
   "outputs": [
    {
     "name": "stdout",
     "output_type": "stream",
     "text": [
      "hai python code!! hai python coder!! hai\n",
      "        python \n",
      "        coder!! <class 'str'> <class 'str'> <class 'str'>\n"
     ]
    }
   ],
   "source": [
    "str1='hai python code!!';\n",
    "str2=\"hai python coder!!\";\n",
    "str3='''hai\n",
    "        python \n",
    "        coder!!''';\n",
    "print(str1,str2,str3,type(str1),type(str2),type(str3));"
   ]
  },
  {
   "cell_type": "code",
   "execution_count": 7,
   "id": "58d66978-f657-4a0a-aa89-7eea7764fa8d",
   "metadata": {},
   "outputs": [
    {
     "name": "stdout",
     "output_type": "stream",
     "text": [
      "H E L L O\n"
     ]
    }
   ],
   "source": [
    "str=\"HELLO\";\n",
    "print(str[0],str[1],str[2],str[3],str[4]);\n",
    "#print(str[5]);    #string out of indexing"
   ]
  },
  {
   "cell_type": "code",
   "execution_count": 9,
   "id": "5d6e0d01-28f1-48d8-bed9-36611f58bf65",
   "metadata": {},
   "outputs": [
    {
     "name": "stdout",
     "output_type": "stream",
     "text": [
      "HELLO\n",
      "ELLO\n",
      "HELLO\n",
      "HLO\n",
      "ELL\n"
     ]
    }
   ],
   "source": [
    "str=\"HELLO\";\n",
    "print(str[:]);\n",
    "print(str[1:]);\n",
    "print(str[:5]);\n",
    "print(str[0:5:2]);\n",
    "print(str[1:4]);"
   ]
  },
  {
   "cell_type": "code",
   "execution_count": 11,
   "id": "8d576f1f-48e0-4076-80d8-d542a0763a7e",
   "metadata": {},
   "outputs": [
    {
     "name": "stdout",
     "output_type": "stream",
     "text": [
      "H O L L E\n"
     ]
    }
   ],
   "source": [
    "str=\"HELLO\";\n",
    "print(str[-5],str[-1],str[-2],str[-3],str[-4]);"
   ]
  },
  {
   "cell_type": "code",
   "execution_count": 13,
   "id": "633b149a-a5cb-47d3-ac5e-5a6812ad3815",
   "metadata": {},
   "outputs": [
    {
     "name": "stdout",
     "output_type": "stream",
     "text": [
      "O\n",
      "\n",
      "HE\n",
      "HEL\n",
      "LO\n",
      "OLH\n",
      "OLLEH\n"
     ]
    }
   ],
   "source": [
    "str=\"HELLO\";\n",
    "print(str[-1:]);\n",
    "print(str[:-5]);\n",
    "print(str[:-3]);\n",
    "print(str[:-2]);\n",
    "print(str[-2:]);\n",
    "print(str[-1: :-2]);\n",
    "print(str[::-1]);"
   ]
  },
  {
   "cell_type": "code",
   "execution_count": 17,
   "id": "878f7f82-9bcf-45e7-94ff-3f7f8c13b086",
   "metadata": {},
   "outputs": [
    {
     "name": "stdout",
     "output_type": "stream",
     "text": [
      "hello\n"
     ]
    }
   ],
   "source": [
    "str=\"hello\";\n",
    "#str[0]=\"o\";\n",
    "print(str);"
   ]
  },
  {
   "cell_type": "code",
   "execution_count": 19,
   "id": "45711c93-a0c4-486c-9263-2cfdd4896f52",
   "metadata": {},
   "outputs": [
    {
     "name": "stdout",
     "output_type": "stream",
     "text": [
      "hello\n",
      "HEELO\n"
     ]
    }
   ],
   "source": [
    "str=\"hello\";\n",
    "print(str);\n",
    "str=\"HEELO\";\n",
    "print(str);"
   ]
  },
  {
   "cell_type": "code",
   "execution_count": 23,
   "id": "34b9fb5f-5ff4-46e5-b15d-3c914437c432",
   "metadata": {},
   "outputs": [
    {
     "name": "stdout",
     "output_type": "stream",
     "text": [
      "hello\n"
     ]
    }
   ],
   "source": [
    "str=\"hello\";\n",
    "#del str[0];\n",
    "print(str);"
   ]
  },
  {
   "cell_type": "code",
   "execution_count": 29,
   "id": "3356d352-4fde-4a3f-95a3-d036695bdd9a",
   "metadata": {},
   "outputs": [
    {
     "name": "stdout",
     "output_type": "stream",
     "text": [
      "hello\n"
     ]
    }
   ],
   "source": [
    "str1=\"hello\";\n",
    "#del str1;\n",
    "print(str1);"
   ]
  },
  {
   "cell_type": "code",
   "execution_count": 31,
   "id": "6b504729-ef02-4972-82d9-d52cc4b84a04",
   "metadata": {},
   "outputs": [
    {
     "name": "stdout",
     "output_type": "stream",
     "text": [
      "hellosathish\n",
      "hellohello\n",
      "hello\n",
      "False\n",
      "True\n",
      "False\n",
      "False\n",
      "True\n"
     ]
    }
   ],
   "source": [
    "str1=\"hello\";\n",
    "str2=\"sathish\";\n",
    "print(str1+str2);\n",
    "print(str1*2);\n",
    "print(str1[:]);\n",
    "print(\"i\" in str1 );\n",
    "print(\"t\" in str2);\n",
    "print(\"h\" not in str2);\n",
    "print(str1 is str2);\n",
    "print(str1 is not str2);"
   ]
  },
  {
   "cell_type": "code",
   "execution_count": 37,
   "id": "2da224c6-fbe1-4fe1-a811-6a4f90da364b",
   "metadata": {},
   "outputs": [
    {
     "name": "stdout",
     "output_type": "stream",
     "text": [
      "what's your name:\n",
      "what \n",
      " is your name\n",
      "what \t is your name:\n",
      "what \\n is your name:\n",
      "what \" is your name:\n",
      "what's your name:\n",
      "what \\ is your name:\n",
      "\u0007\n",
      " to all\n",
      "hello\t world\n",
      "hello\u000b",
      " world\n",
      "\b0\n",
      "e\n",
      "\\\\sathish\\\\mahesh\n",
      "virat and rohit are best\n",
      "virat and rohit are best\n",
      "gill,virat and rohit are best\n"
     ]
    }
   ],
   "source": [
    "str=\"what\\'s your name:\";\n",
    "print(str);\n",
    "str=\"what \\n is your name\";\n",
    "print(str);\n",
    "str=\"what \\t is your name:\";\n",
    "print(str);\n",
    "str=\"what \\\\n is your name:\";\n",
    "print(str);\n",
    "str=\"what \\\" is your name:\";\n",
    "print(str);\n",
    "str='what\\'s your name:';\n",
    "print(str);\n",
    "str=\"what \\\\ is your name:\";\n",
    "print(str);\n",
    "print(\"\\a\");\n",
    "print(\"hai\\r to all\");\n",
    "print(\"hello\\t world\");\n",
    "print(\"hello\\v world\");\n",
    "print(\"\\b0\");\n",
    "print(\"\\x65\");\n",
    "print(r\"\\\\sathish\\\\mahesh\"); #raw string\n",
    "print(\"{} and {} are best\".format(\"virat\",\"rohit\"));\n",
    "print(\"{0} and {1} are best\".format(\"virat\",\"rohit\"));\n",
    "print(\"{a},{b} and {c} are best\".format(a=\"gill\",b=\"virat\",c=\"rohit\"));"
   ]
  },
  {
   "cell_type": "code",
   "execution_count": 39,
   "id": "104834f4-6614-4f1b-933a-7fe731e85784",
   "metadata": {},
   "outputs": [
    {
     "name": "stdin",
     "output_type": "stream",
     "text": [
      "Enter the characters: wefs\n"
     ]
    },
    {
     "name": "stdout",
     "output_type": "stream",
     "text": [
      "wefs\n",
      "WEFS\n"
     ]
    }
   ],
   "source": [
    "ch=input(\"Enter the characters:\");\n",
    "\n",
    "lower=ch.lower();\n",
    "print(lower);\n",
    "\n",
    "upper=ch.upper();\n",
    "print(upper);"
   ]
  },
  {
   "cell_type": "code",
   "execution_count": null,
   "id": "8983bbdc-cd80-4c62-a285-91f2393dac1f",
   "metadata": {},
   "outputs": [],
   "source": []
  }
 ],
 "metadata": {
  "kernelspec": {
   "display_name": "Python 3 (ipykernel)",
   "language": "python",
   "name": "python3"
  },
  "language_info": {
   "codemirror_mode": {
    "name": "ipython",
    "version": 3
   },
   "file_extension": ".py",
   "mimetype": "text/x-python",
   "name": "python",
   "nbconvert_exporter": "python",
   "pygments_lexer": "ipython3",
   "version": "3.11.5"
  }
 },
 "nbformat": 4,
 "nbformat_minor": 5
}
