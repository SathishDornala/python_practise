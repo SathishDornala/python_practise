{
 "cells": [
  {
   "cell_type": "code",
   "execution_count": 1,
   "id": "5b1aec31-0784-4a17-be4a-6eee94ad0e94",
   "metadata": {},
   "outputs": [
    {
     "name": "stdout",
     "output_type": "stream",
     "text": [
      "[1, 2.5, 'sathsi'] <class 'list'>\n"
     ]
    }
   ],
   "source": [
    "list1=[1,2.5,\"sathsi\"];\n",
    "print(list1,type(list1));"
   ]
  },
  {
   "cell_type": "code",
   "execution_count": 9,
   "id": "98ca42dd-8557-4c3c-af9f-e96b6c448484",
   "metadata": {},
   "outputs": [
    {
     "data": {
      "text/plain": [
       "'characters of lists\\n1).in order\\n2).acessed by index\\n3).mutable\\n4).rundowns are changeable sort\\n5).sotoed different data types'"
      ]
     },
     "execution_count": 9,
     "metadata": {},
     "output_type": "execute_result"
    }
   ],
   "source": [
    "'''characters of lists\n",
    "1).in order\n",
    "2).acessed by index\n",
    "3).mutable\n",
    "4).rundowns are changeable sort\n",
    "5).sotoed different data types'''"
   ]
  },
  {
   "cell_type": "code",
   "execution_count": 11,
   "id": "9144f974-966a-43f9-ab60-08a6f244c441",
   "metadata": {},
   "outputs": [
    {
     "name": "stdout",
     "output_type": "stream",
     "text": [
      "False\n",
      "True\n"
     ]
    }
   ],
   "source": [
    "a=[1,2,\"hai\",6.3];      #order\n",
    "b=[\"hai\",6.3,1,2];\n",
    "print(a==b);\n",
    "a=[\"hai\",6.3,1,2];\n",
    "b=[\"hai\",6.3,1,2];\n",
    "print(a==b);"
   ]
  },
  {
   "cell_type": "code",
   "execution_count": 13,
   "id": "927f3a6a-0d0b-40cf-aa52-635fdc9f1822",
   "metadata": {},
   "outputs": [
    {
     "name": "stdout",
     "output_type": "stream",
     "text": [
      "name:sathish\tage:20\tmarks:90\t\n"
     ]
    }
   ],
   "source": [
    "stu=[\"sathish\",20,90.9];\n",
    "print(\"name:%s\\tage:%d\\tmarks:%d\\t\"%(stu[0],stu[1],stu[2]));"
   ]
  },
  {
   "cell_type": "code",
   "execution_count": 15,
   "id": "ce4f5bc7-6b15-4db5-947e-f4530096e069",
   "metadata": {},
   "outputs": [
    {
     "name": "stdout",
     "output_type": "stream",
     "text": [
      "0 1 2 3 4 5 6 7 8 9 "
     ]
    }
   ],
   "source": [
    "l=[0,1,2,3,4,5,6,7,8,9];\n",
    "for i in range(len(l)):\n",
    "    print(l[i],end=\" \");"
   ]
  },
  {
   "cell_type": "code",
   "execution_count": 17,
   "id": "8ee5e738-d0f6-4c30-9117-52dcd4b72550",
   "metadata": {},
   "outputs": [
    {
     "name": "stdout",
     "output_type": "stream",
     "text": [
      "[0, 1, 2, 3, 4, 5, 6, 7, 8, 9]\n",
      "[0, 1, 2, 3, 4, 5, 6, 7, 8, 9]\n",
      "[0, 2, 4, 6, 8]\n",
      "[3, 4, 5, 6, 7]\n"
     ]
    }
   ],
   "source": [
    "print(l[0:]);\n",
    "print(l[:]);\n",
    "print(l[::2]);\n",
    "print(l[3:8])"
   ]
  },
  {
   "cell_type": "code",
   "execution_count": 19,
   "id": "e60b9063-c898-401c-bd32-7d72ca50b1e0",
   "metadata": {},
   "outputs": [
    {
     "name": "stdout",
     "output_type": "stream",
     "text": [
      "[0, 1, 2, 3, 4, 5, 6, 7, 8]\n",
      "[]\n",
      "[0, 1, 2, 3, 4, 5, 6, 7, 8, 9]\n",
      "[9, 7, 5, 3, 1]\n"
     ]
    }
   ],
   "source": [
    "print(l[:-1]);\n",
    "print(l[-4:-6]);\n",
    "print(l[::]);\n",
    "print(l[::-2]); "
   ]
  },
  {
   "cell_type": "code",
   "execution_count": 21,
   "id": "39abbf5e-3408-4e00-b360-56caea2f588d",
   "metadata": {},
   "outputs": [
    {
     "name": "stdout",
     "output_type": "stream",
     "text": [
      "[0, 1, 2, 3, 4, 89, 6, 7, 8, 9]\n",
      "[0, 1, 2, 3, 4, 89, 6, 7, 8, 99]\n",
      "[45, 24]\n"
     ]
    }
   ],
   "source": [
    "l[5]=89;\n",
    "print(l);\n",
    "l[-1]=99;\n",
    "print(l);\n",
    "l[1:5]=[1,2,3,4,5,6,783274982739498380];\n",
    "l[::]=[1,2];\n",
    "l[::-1]=[24,45]\n",
    "print(l);"
   ]
  },
  {
   "cell_type": "code",
   "execution_count": 25,
   "id": "90ae1e3f-8025-4170-ac96-f0f20ec89b3c",
   "metadata": {},
   "outputs": [],
   "source": [
    "'''list operations\n",
    "1.Repetitions\n",
    "2.concatenation\n",
    "3.Length\n",
    "4.iiteration\n",
    "5.membership''';"
   ]
  },
  {
   "cell_type": "code",
   "execution_count": 27,
   "id": "68b6785c-f7d5-467c-b39e-ece0cf27a0ff",
   "metadata": {},
   "outputs": [
    {
     "name": "stdout",
     "output_type": "stream",
     "text": [
      "[1, 2, 3, 4, 1, 2, 3, 4, 1, 2, 3, 4, 1, 2, 3, 4]\n"
     ]
    }
   ],
   "source": [
    "l=[1,2,3,4];\n",
    "print(l*4);"
   ]
  },
  {
   "cell_type": "code",
   "execution_count": 29,
   "id": "83145168-5ef8-464f-9436-bb2bced8f004",
   "metadata": {},
   "outputs": [
    {
     "name": "stdout",
     "output_type": "stream",
     "text": [
      "[1, 2, 3, 4, 89.9, 90]\n"
     ]
    }
   ],
   "source": [
    "l1=[89.90,90];\n",
    "print(l+l1);"
   ]
  },
  {
   "cell_type": "code",
   "execution_count": 31,
   "id": "33d0275c-4f66-4743-8785-71840e1d2ac2",
   "metadata": {},
   "outputs": [
    {
     "name": "stdout",
     "output_type": "stream",
     "text": [
      "4\n"
     ]
    }
   ],
   "source": [
    "a=len(l);\n",
    "print(a);"
   ]
  },
  {
   "cell_type": "code",
   "execution_count": 33,
   "id": "ee8c2cfe-aa04-460e-9786-02ef98c6677d",
   "metadata": {},
   "outputs": [
    {
     "name": "stdout",
     "output_type": "stream",
     "text": [
      "1\n",
      "2\n",
      "3\n",
      "4\n"
     ]
    }
   ],
   "source": [
    "for i in range(len(l)):\n",
    "    print(l[i]);"
   ]
  },
  {
   "cell_type": "code",
   "execution_count": 35,
   "id": "fa315368-a55b-43b9-b0e5-19e5a261f498",
   "metadata": {},
   "outputs": [
    {
     "name": "stdout",
     "output_type": "stream",
     "text": [
      "False\n",
      "True\n",
      "False\n"
     ]
    }
   ],
   "source": [
    "print(5 in l);\n",
    "print(5 not in l);\n",
    "print(l is l1);"
   ]
  },
  {
   "cell_type": "code",
   "execution_count": 37,
   "id": "40fa4418-d67c-46bd-8832-de05928feaf6",
   "metadata": {},
   "outputs": [
    {
     "name": "stdin",
     "output_type": "stream",
     "text": [
      "Enter item to append: 2\n",
      "Enter item to append: 4\n",
      "Enter item to append: 5\n",
      "Enter item to append: 6\n",
      "Enter item to append: 7\n"
     ]
    },
    {
     "name": "stdout",
     "output_type": "stream",
     "text": [
      "['2', '4', '5', '6', '7']\n"
     ]
    }
   ],
   "source": [
    "l=[];\n",
    "for i in range(1,5+1):\n",
    "    ip=input(\"Enter item to append:\");\n",
    "    l.append(ip);\n",
    "print(l);"
   ]
  },
  {
   "cell_type": "code",
   "execution_count": 39,
   "id": "99433662-8239-43d8-b06b-1bab8c083fa4",
   "metadata": {},
   "outputs": [
    {
     "name": "stdin",
     "output_type": "stream",
     "text": [
      "Enter the size of the list: 5\n",
      "Enter item into the list: 3\n",
      "Enter item into the list: 2\n",
      "Enter item into the list: 5\n",
      "Enter item into the list: 6\n",
      "Enter item into the list: 7\n"
     ]
    },
    {
     "name": "stdout",
     "output_type": "stream",
     "text": [
      "original list :\n",
      "['3', '2', '5', '6', '7']\n"
     ]
    }
   ],
   "source": [
    "l=[];\n",
    "size=int(input(\"Enter the size of the list:\"));\n",
    "for i in range(0,size):\n",
    "    item=input(\"Enter item into the list:\");\n",
    "    l.append(item);\n",
    "print(\"original list :\");\n",
    "print(l);"
   ]
  },
  {
   "cell_type": "code",
   "execution_count": 46,
   "id": "528102c2-2647-4882-ad8b-9ffb7590a59e",
   "metadata": {},
   "outputs": [],
   "source": [
    "\n",
    "'''list bulit in functions'''\n",
    "'''len()\n",
    "    max()\n",
    "    min()''';"
   ]
  },
  {
   "cell_type": "code",
   "execution_count": 48,
   "id": "3453ce9d-b322-4ea8-adac-533e4839cb6f",
   "metadata": {},
   "outputs": [
    {
     "name": "stdout",
     "output_type": "stream",
     "text": [
      "6 6 1\n"
     ]
    }
   ],
   "source": [
    "l1=[1,2,3,4,5,6];\n",
    "print(len(l1),max(l1),min(l1));"
   ]
  },
  {
   "cell_type": "code",
   "execution_count": 50,
   "id": "494818d9-1b3d-4d70-93df-4425bcdac671",
   "metadata": {},
   "outputs": [
    {
     "name": "stdout",
     "output_type": "stream",
     "text": [
      "[1, 2, 3, 4, 5, 6]\n",
      "[1, 2, 3, 4, 5, 6, 4, 2, 5]\n"
     ]
    }
   ],
   "source": [
    "l1=[1,2,3,4,5,6,4,2,5];\n",
    "l2=[];\n",
    "for i in range(0,len(l1)):\n",
    "    if(l1[i] not in l2):\n",
    "        l2.append(l1[i]);\n",
    "print(l2);\n",
    "print(l1);"
   ]
  },
  {
   "cell_type": "code",
   "execution_count": 52,
   "id": "b52689b8-9c99-4d0b-a4cc-97508881375e",
   "metadata": {},
   "outputs": [
    {
     "name": "stdout",
     "output_type": "stream",
     "text": [
      "15\n"
     ]
    }
   ],
   "source": [
    "l1=[1,2,3,4,5];\n",
    "sum=0;\n",
    "for i in range(len(l1)):\n",
    "    sum=sum+l1[i];\n",
    "print(sum);"
   ]
  },
  {
   "cell_type": "code",
   "execution_count": 54,
   "id": "cb53c6e2-ba30-41ae-9b91-36a22467db6d",
   "metadata": {},
   "outputs": [
    {
     "name": "stdout",
     "output_type": "stream",
     "text": [
      "common element is : 3\n"
     ]
    }
   ],
   "source": [
    "l1=[1,2,3,5,6];\n",
    "l2=[3];\n",
    "for i in range(0,len(l1)):\n",
    "    for j in range(len(l2)):\n",
    "        if(l1[i]==l2[j]):\n",
    "            print(\"common element is :\",l1[i]);"
   ]
  },
  {
   "cell_type": "code",
   "execution_count": 56,
   "id": "c3bba8c8-3ff9-4df5-bc11-ec397f000bb6",
   "metadata": {},
   "outputs": [
    {
     "name": "stdout",
     "output_type": "stream",
     "text": [
      "140726965801768\n",
      "140726965801800\n",
      "140726965801832\n"
     ]
    }
   ],
   "source": [
    "a=[1,2,3];\n",
    "print(id(a[0]));\n",
    "print(id(a[1]));\n",
    "print(id(a[2]));"
   ]
  },
  {
   "cell_type": "code",
   "execution_count": null,
   "id": "dadedf51-96c7-46e4-a049-9bd657aafaf8",
   "metadata": {},
   "outputs": [],
   "source": []
  }
 ],
 "metadata": {
  "kernelspec": {
   "display_name": "Python 3 (ipykernel)",
   "language": "python",
   "name": "python3"
  },
  "language_info": {
   "codemirror_mode": {
    "name": "ipython",
    "version": 3
   },
   "file_extension": ".py",
   "mimetype": "text/x-python",
   "name": "python",
   "nbconvert_exporter": "python",
   "pygments_lexer": "ipython3",
   "version": "3.11.5"
  }
 },
 "nbformat": 4,
 "nbformat_minor": 5
}
