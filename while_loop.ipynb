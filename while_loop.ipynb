{
 "cells": [
  {
   "cell_type": "code",
   "execution_count": 1,
   "id": "6bd6586d-a85e-4ed6-8aca-1bad69f6ae1f",
   "metadata": {},
   "outputs": [
    {
     "name": "stdout",
     "output_type": "stream",
     "text": [
      "0 1 2 3 4 5 6 7 8 9 "
     ]
    }
   ],
   "source": [
    "i=0;\n",
    "while(i<10):\n",
    "    print(i,end=\" \");\n",
    "    i+=1;"
   ]
  },
  {
   "cell_type": "code",
   "execution_count": 3,
   "id": "74514bb1-5887-450b-a9c5-3d1f2988214e",
   "metadata": {},
   "outputs": [
    {
     "name": "stdout",
     "output_type": "stream",
     "text": [
      "0 3 6 9 12 15 18 21 "
     ]
    }
   ],
   "source": [
    "i=0;\n",
    "while(i<24):\n",
    "    if(i%3==0):\n",
    "        print(i,end=\" \");\n",
    "        i=i+3;\n"
   ]
  },
  {
   "cell_type": "code",
   "execution_count": 5,
   "id": "cbd4eb2e-7b60-4e39-b91c-d77a533d6107",
   "metadata": {},
   "outputs": [
    {
     "name": "stdin",
     "output_type": "stream",
     "text": [
      "Enter any number: 2\n"
     ]
    },
    {
     "name": "stdout",
     "output_type": "stream",
     "text": [
      "prime\n"
     ]
    }
   ],
   "source": [
    "def prime(num):\n",
    "    i=1;\n",
    "    c=0;\n",
    "    while(i<=num):\n",
    "        if(num%i==0):\n",
    "            c=c+1;\n",
    "        i=i+1;\n",
    "    if(c==2):\n",
    "        print(\"prime\");\n",
    "    else:\n",
    "        print(\"not a prime\");\n",
    "        \n",
    "num=int(input(\"Enter any number:\"));\n",
    "prime(num);"
   ]
  },
  {
   "cell_type": "code",
   "execution_count": 7,
   "id": "4fbfa336-6831-4bf6-a8d3-90d785ff1e72",
   "metadata": {},
   "outputs": [
    {
     "name": "stdin",
     "output_type": "stream",
     "text": [
      "Enter a no.: 23\n"
     ]
    },
    {
     "name": "stdout",
     "output_type": "stream",
     "text": [
      "not a Armgstrong\n"
     ]
    }
   ],
   "source": [
    "def armstrong(num):\n",
    "    sum=0;\n",
    "    while(num!=0):\n",
    "        rem=num%10;\n",
    "        sum=sum+rem**3;\n",
    "        num=num//10;\n",
    "    if(sum==temp):\n",
    "        print(\"Armstrong number\");\n",
    "    else:\n",
    "        print(\"not a Armgstrong\");\n",
    "        \n",
    "num=int(input(\"Enter a no.:\"));\n",
    "temp=num;\n",
    "armstrong(num);"
   ]
  },
  {
   "cell_type": "code",
   "execution_count": 9,
   "id": "44c3341f-f5ca-4cec-8a34-9a39323ce4c7",
   "metadata": {},
   "outputs": [
    {
     "name": "stdin",
     "output_type": "stream",
     "text": [
      "Enter a number to multiply: 2\n"
     ]
    },
    {
     "name": "stdout",
     "output_type": "stream",
     "text": [
      "2 * 1 = 2\n",
      "2 * 2 = 4\n",
      "2 * 3 = 6\n",
      "2 * 4 = 8\n",
      "2 * 5 = 10\n",
      "2 * 6 = 12\n",
      "2 * 7 = 14\n",
      "2 * 8 = 16\n",
      "2 * 9 = 18\n",
      "2 * 10 = 20\n"
     ]
    }
   ],
   "source": [
    "def multi(num):\n",
    "    i=1;\n",
    "    while(i<=10):\n",
    "        print(num,\"*\",i,\"=\",num*i);\n",
    "        i=i+1;\n",
    "num=int(input(\"Enter a number to multiply:\"));\n",
    "multi(num);"
   ]
  },
  {
   "cell_type": "code",
   "execution_count": 11,
   "id": "a63bc458-40de-42ad-8055-091d48617863",
   "metadata": {},
   "outputs": [
    {
     "name": "stdout",
     "output_type": "stream",
     "text": [
      "[25, 16, 9, 4, 1]\n"
     ]
    }
   ],
   "source": [
    "list_=[1,2,3,4,5];\n",
    "list1=[];\n",
    "while list_:\n",
    "    list1.append((list_.pop())**2);\n",
    "print(list1);"
   ]
  },
  {
   "cell_type": "code",
   "execution_count": 13,
   "id": "c6a199b8-1542-4316-b4a2-68842740217c",
   "metadata": {},
   "outputs": [
    {
     "name": "stdout",
     "output_type": "stream",
     "text": [
      "1 is odd\n",
      "2 is even\n",
      "3 is odd\n",
      "4 is even\n",
      "5 is odd\n",
      "6 is even\n",
      "7 is odd\n",
      "8 is even\n"
     ]
    }
   ],
   "source": [
    "list_=[1,2,3,4,5,6,7,8];\n",
    "for i in range(len(list_)):\n",
    "    if(list_[i]%2==0):\n",
    "        print(list_[i],\"is even\");\n",
    "    else:\n",
    "        print(list_[i],\"is odd\");"
   ]
  },
  {
   "cell_type": "code",
   "execution_count": 15,
   "id": "9075dbe6-3aaf-49c7-b528-4323d5c2d6cf",
   "metadata": {},
   "outputs": [
    {
     "name": "stdout",
     "output_type": "stream",
     "text": [
      "sathish contains 7\n",
      "mahesh contains 6\n",
      "renamma contains 7\n",
      "parvathamma contains 11\n"
     ]
    }
   ],
   "source": [
    "list_=[\"sathish\",\"mahesh\",\"renamma\",\"parvathamma\"];\n",
    "for i in range(len(list_)):\n",
    "    j=0;c=0;\n",
    "    while(j<len(list_[i])):\n",
    "        c=c+1;\n",
    "        j=j+1;\n",
    "    print(list_[i],\"contains\",c);"
   ]
  },
  {
   "cell_type": "code",
   "execution_count": null,
   "id": "c211181d-9bc5-45c8-b3d9-71e18a0d3986",
   "metadata": {},
   "outputs": [],
   "source": []
  }
 ],
 "metadata": {
  "kernelspec": {
   "display_name": "Python 3 (ipykernel)",
   "language": "python",
   "name": "python3"
  },
  "language_info": {
   "codemirror_mode": {
    "name": "ipython",
    "version": 3
   },
   "file_extension": ".py",
   "mimetype": "text/x-python",
   "name": "python",
   "nbconvert_exporter": "python",
   "pygments_lexer": "ipython3",
   "version": "3.11.5"
  }
 },
 "nbformat": 4,
 "nbformat_minor": 5
}
