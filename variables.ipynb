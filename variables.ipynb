{
 "cells": [
  {
   "cell_type": "code",
   "execution_count": 14,
   "id": "e11477aa-92f8-4e84-9bd5-3e0aef0a5c89",
   "metadata": {},
   "outputs": [
    {
     "name": "stdout",
     "output_type": "stream",
     "text": [
      "140720662748744\n",
      "140720662748744\n"
     ]
    }
   ],
   "source": [
    "A= 90;\n",
    "b=90;\n",
    "#print(type(a));\n",
    "print(id(A));\n",
    "#print(type(b));\n",
    "print(id(b));"
   ]
  },
  {
   "cell_type": "code",
   "execution_count": 16,
   "id": "92a76cf6-b802-4a05-97b7-1d7fac065081",
   "metadata": {},
   "outputs": [
    {
     "name": "stdout",
     "output_type": "stream",
     "text": [
      "A B\n"
     ]
    }
   ],
   "source": [
    "name=\"A\";\n",
    "Name=\"B\";\n",
    "_name=\"C\";\n",
    "_Name=\"D\";\n",
    "n_a_m_e=\"'E\";\n",
    "_name_=\"f\";\n",
    "na56me=\"G\";\n",
    "#@name=\"H\";\n",
    "print(name,Name);"
   ]
  },
  {
   "cell_type": "code",
   "execution_count": 18,
   "id": "7ba8faa9-03d8-4c3c-bb9b-30ffeef3477d",
   "metadata": {},
   "outputs": [
    {
     "name": "stdout",
     "output_type": "stream",
     "text": [
      "50 50 50\n",
      "<class 'int'> <class 'int'> <class 'int'>\n",
      "140720662747464 140720662747464 140720662747464\n"
     ]
    }
   ],
   "source": [
    "a=b=c=50;\n",
    "print(a,b,c);\n",
    "print(type(a),type(b),type(c));\n",
    "print(id(a),id(b),id(c));\n"
   ]
  },
  {
   "cell_type": "code",
   "execution_count": 20,
   "id": "8dd6561e-ac79-48f5-9a29-e9bf5e2587b8",
   "metadata": {},
   "outputs": [
    {
     "name": "stdout",
     "output_type": "stream",
     "text": [
      "1 2.8 3\n",
      "<class 'int'> <class 'float'> <class 'int'>\n"
     ]
    }
   ],
   "source": [
    "a,b,c=1,2.8,3;\n",
    "print(a,b,c);\n",
    "print(type(a),type(b),type(c));\n",
    "k=16;"
   ]
  },
  {
   "cell_type": "code",
   "execution_count": 22,
   "id": "7728e520-012c-432a-8d7e-3cbc11d56db6",
   "metadata": {},
   "outputs": [
    {
     "name": "stdout",
     "output_type": "stream",
     "text": [
      "9\n"
     ]
    }
   ],
   "source": [
    "def add():\n",
    "    a=9;\n",
    "    b=0;\n",
    "    print(a+b);\n",
    "add();"
   ]
  },
  {
   "cell_type": "code",
   "execution_count": 24,
   "id": "364355d2-43b2-450f-ba2f-b39fd91c050c",
   "metadata": {},
   "outputs": [
    {
     "name": "stdout",
     "output_type": "stream",
     "text": [
      "16\n"
     ]
    }
   ],
   "source": [
    "print(k);\n",
    "del k;"
   ]
  },
  {
   "cell_type": "code",
   "execution_count": 26,
   "id": "45c11341-a025-4f07-a03e-965985b36ca1",
   "metadata": {},
   "outputs": [
    {
     "name": "stdout",
     "output_type": "stream",
     "text": [
      "10\n",
      "10\n",
      "<class 'int'>\n"
     ]
    }
   ],
   "source": [
    "x=10;\n",
    "print(x);\n",
    "print((x));\n",
    "print(type(x));"
   ]
  },
  {
   "cell_type": "code",
   "execution_count": null,
   "id": "a4980402-5eb0-414f-81d6-b312ed53d771",
   "metadata": {},
   "outputs": [],
   "source": []
  }
 ],
 "metadata": {
  "kernelspec": {
   "display_name": "Python 3 (ipykernel)",
   "language": "python",
   "name": "python3"
  },
  "language_info": {
   "codemirror_mode": {
    "name": "ipython",
    "version": 3
   },
   "file_extension": ".py",
   "mimetype": "text/x-python",
   "name": "python",
   "nbconvert_exporter": "python",
   "pygments_lexer": "ipython3",
   "version": "3.11.5"
  }
 },
 "nbformat": 4,
 "nbformat_minor": 5
}
