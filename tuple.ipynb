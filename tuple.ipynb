{
 "cells": [
  {
   "cell_type": "code",
   "execution_count": 1,
   "id": "7671edc6-d3a3-46ed-8e16-9f61ba66d838",
   "metadata": {},
   "outputs": [
    {
     "name": "stdout",
     "output_type": "stream",
     "text": [
      "(1, 2, 3, 4, 5)\n",
      "()\n",
      "(1, 2, 3, (5, 6, 7), 8, 9, {2, 3, 4})\n"
     ]
    }
   ],
   "source": [
    "tup=(1,2,3,4,5);\n",
    "print(tup);\n",
    "tup=();\n",
    "print(tup);\n",
    "tup=(1,2,3,(5,6,7),8,9,{2,3,4});\n",
    "print(tup);"
   ]
  },
  {
   "cell_type": "code",
   "execution_count": 3,
   "id": "4f8cfdf1-d287-4870-85a3-556c65d02c27",
   "metadata": {},
   "outputs": [
    {
     "name": "stdout",
     "output_type": "stream",
     "text": [
      "(1, 2, 'sathish', [5, 6])\n",
      "<class 'tuple'>\n",
      "<class 'TypeError'>\n"
     ]
    }
   ],
   "source": [
    "tuple_=1,2,\"sathish\",[5,6];  #without paranthesis of tuple\n",
    "print(tuple_);\n",
    "print(type(tuple_));\n",
    "try:\n",
    "    tuple_[9]=\"hai\";\n",
    "except:\n",
    "    print(TypeError);"
   ]
  },
  {
   "cell_type": "code",
   "execution_count": 5,
   "id": "bd520e58-bfec-4bc5-9bfd-c6d999c9b3d3",
   "metadata": {},
   "outputs": [
    {
     "name": "stdout",
     "output_type": "stream",
     "text": [
      "tuple <class 'str'>\n",
      "('tuple',) <class 'tuple'>\n",
      "('tuple',) <class 'tuple'>\n"
     ]
    }
   ],
   "source": [
    "st=(\"tuple\");\n",
    "print(st,type(st));\n",
    "st=(\"tuple\",);                    #one element tuple;\n",
    "print(st,type(st));\n",
    "st=\"tuple\",;                      #one elemenet tuple without paranthesis\n",
    "print(st,type(st));"
   ]
  },
  {
   "cell_type": "code",
   "execution_count": 7,
   "id": "7ab6ca97-1b98-469e-8b36-473ea6c4ba0a",
   "metadata": {},
   "outputs": [
    {
     "name": "stdout",
     "output_type": "stream",
     "text": [
      "python\n",
      "tuple\n",
      "list index out of range\n",
      "list indices must be integers or slices, not float\n"
     ]
    }
   ],
   "source": [
    "tuple_=[\"python\",\"tuple\",\"list\",\"collector\"];\n",
    "print(tuple_[0]);\n",
    "print(tuple_[1]);\n",
    "try:\n",
    "    print(tuple_[5])\n",
    "except Exception as e:\n",
    "    print(e);\n",
    "try:\n",
    "    print(tuple_[1.0])\n",
    "except Exception as e:\n",
    "    print(e);"
   ]
  },
  {
   "cell_type": "code",
   "execution_count": 9,
   "id": "9b02c657-ed23-4806-b975-d6252377bf53",
   "metadata": {},
   "outputs": [
    {
     "name": "stdout",
     "output_type": "stream",
     "text": [
      "p\n",
      "{'hai', 'bye'}\n"
     ]
    }
   ],
   "source": [
    "tuple_=[\"tuple\",[1,2,3],{\"hai\",\"bye\"}];\n",
    "print(tuple_[0][2]);\n",
    "print(tuple_[2]);"
   ]
  },
  {
   "cell_type": "code",
   "execution_count": 11,
   "id": "e5ecb5df-e8dd-448e-be2a-eee7cf6fddca",
   "metadata": {},
   "outputs": [
    {
     "name": "stdout",
     "output_type": "stream",
     "text": [
      "['java', 'python', 'c', 'c++', 'DBMS']\n",
      "['DBMS', 'c++', 'c', 'python', 'java']\n",
      "['python', 'c', 'c++', 'DBMS']\n",
      "['java', 'python', 'c', 'c++']\n",
      "[]\n",
      "['DBMS', 'c', 'java']\n",
      "['java']\n",
      "['DBMS', 'c']\n"
     ]
    }
   ],
   "source": [
    "tuple_=[\"java\",\"python\",\"c\",\"c++\",\"DBMS\"];\n",
    "print(tuple_[:]);\n",
    "print(tuple_[::-1]);\n",
    "print(tuple_[-4:]);\n",
    "print(tuple_[-5:-1]);\n",
    "print(tuple_[-5:-1:-2]);\n",
    "print(tuple_[::-2]);\n",
    "print(tuple_[-5::-2]);\n",
    "print(tuple_[-1:-5:-2]);"
   ]
  },
  {
   "cell_type": "code",
   "execution_count": 15,
   "id": "1e3beb2f-67d0-49c4-bada-ce8ea2c14415",
   "metadata": {},
   "outputs": [
    {
     "name": "stdout",
     "output_type": "stream",
     "text": [
      "name 'tuple_' is not defined\n"
     ]
    }
   ],
   "source": [
    "tuple_=[1,2,3,4,5,6,7,8];\n",
    "try:\n",
    "    del tuple_;\n",
    "    print(tuple_);\n",
    "except Exception as e:\n",
    "    print(e);"
   ]
  },
  {
   "cell_type": "code",
   "execution_count": 17,
   "id": "90a62d3a-607a-490f-8736-cd8df91a02e2",
   "metadata": {},
   "outputs": [
    {
     "name": "stdout",
     "output_type": "stream",
     "text": [
      "[1, 2, 3, 1, 2, 3, 1, 2, 3]\n",
      "unsupported operand type(s) for *: 'type' and 'float'\n"
     ]
    }
   ],
   "source": [
    "tuple_=[1,2,3];\n",
    "try:\n",
    "    print(tuple_*3);\n",
    "    print(tuple*1.2);\n",
    "except Exception as e:\n",
    "    print(e);"
   ]
  },
  {
   "cell_type": "code",
   "execution_count": 19,
   "id": "337bfe9c-bac7-4aca-b508-fd355a17cb12",
   "metadata": {},
   "outputs": [
    {
     "name": "stdout",
     "output_type": "stream",
     "text": [
      "2\n",
      "4\n",
      "1\n",
      "0\n"
     ]
    }
   ],
   "source": [
    "t1=(1,2,2,3,4,2,6,21,1,3,2,5,6,6,4);\n",
    "print(t1.count(4));\n",
    "print(t1.count(2));\n",
    "print(t1.count(21));\n",
    "print(t1.count(90.0));"
   ]
  },
  {
   "cell_type": "code",
   "execution_count": 21,
   "id": "ce201079-7ddb-4a1d-bdbe-fae90336683f",
   "metadata": {},
   "outputs": [
    {
     "name": "stdout",
     "output_type": "stream",
     "text": [
      "1\n",
      "6\n",
      "10\n",
      "6\n",
      "5\n"
     ]
    }
   ],
   "source": [
    "t1=(1,2,2,3,4,2,6,21,1,3,2,5,6,6,4);\n",
    "print(t1.index(2));\n",
    "print(t1.index(6));\n",
    "print(t1.index(2,6)); #index 2 after 6th index\n",
    "print(t1.index(6,6)); #index 6 after 6th index but start from 6th\n",
    "print(t1.index(2,3)); #index 2 after 3rd index"
   ]
  },
  {
   "cell_type": "code",
   "execution_count": 23,
   "id": "d8cd68eb-91c4-4721-9804-e89bad84d212",
   "metadata": {},
   "outputs": [
    {
     "name": "stdout",
     "output_type": "stream",
     "text": [
      "True\n",
      "False\n",
      "False\n",
      "True\n"
     ]
    }
   ],
   "source": [
    "t1=(\"python\",\"java\",\"c++\",\"javascript\",\"html\");\n",
    "print(\"python\" in t1 );\n",
    "print(\"python \" in t1);\n",
    "print(\"java\" not in t1);\n",
    "print(\"HTML\" not in t1);"
   ]
  },
  {
   "cell_type": "code",
   "execution_count": 25,
   "id": "83c34bae-cd60-4ce8-ba97-b689446170ae",
   "metadata": {},
   "outputs": [
    {
     "name": "stdout",
     "output_type": "stream",
     "text": [
      "python\n",
      "java\n",
      "c++\n",
      "javascript\n",
      "html\n",
      "printing with index\n",
      "python\n",
      "java\n",
      "c++\n",
      "javascript\n",
      "html\n"
     ]
    }
   ],
   "source": [
    "t1=(\"python\",\"java\",\"c++\",\"javascript\",\"html\");\n",
    "for i in t1:\n",
    "    print(i);\n",
    " \n",
    "print(\"printing with index\");   \n",
    "for i in range(len(t1)):\n",
    "    print(t1[i]);"
   ]
  },
  {
   "cell_type": "code",
   "execution_count": 27,
   "id": "45c5a711-7c51-497c-98d2-3fa2d451a66f",
   "metadata": {},
   "outputs": [
    {
     "name": "stdout",
     "output_type": "stream",
     "text": [
      "'tuple' object does not support item assignment\n"
     ]
    }
   ],
   "source": [
    "t1=(\"python\",\"java\",\"c++\",\"javascript\",\"html\");\n",
    "try:\n",
    "    t1[2]=\"items\";\n",
    "except Exception as e:\n",
    "    print(e);"
   ]
  },
  {
   "cell_type": "code",
   "execution_count": 29,
   "id": "02b3f7e7-033f-464b-95fb-287e073f9243",
   "metadata": {},
   "outputs": [
    {
     "name": "stdout",
     "output_type": "stream",
     "text": [
      "'tuple' object does not support item assignment\n"
     ]
    }
   ],
   "source": [
    "try:\n",
    "    t1[2:4]=[\"items\",\"sathish\"];\n",
    "except Exception as e:\n",
    "    print(e);"
   ]
  },
  {
   "cell_type": "code",
   "execution_count": 33,
   "id": "04c9a2e0-9840-40a5-96da-dfb4d691852c",
   "metadata": {},
   "outputs": [
    {
     "name": "stdout",
     "output_type": "stream",
     "text": [
      "('items', 'sathish')\n"
     ]
    }
   ],
   "source": [
    "try:\n",
    "    t1=\"items\",\"sathish\";\n",
    "except Exception as e:\n",
    "    print(e);\n",
    "print(t1);\n"
   ]
  },
  {
   "cell_type": "code",
   "execution_count": 35,
   "id": "44b77fea-91ff-4b22-8605-92f903b85b92",
   "metadata": {},
   "outputs": [
    {
     "name": "stdout",
     "output_type": "stream",
     "text": [
      "('python', 'java', 'c++', 'javascript', 'html', 1, 2, 3)\n",
      "can't multiply sequence by non-int of type 'tuple'\n"
     ]
    }
   ],
   "source": [
    "t1=(\"python\",\"java\",\"c++\",\"javascript\",\"html\");\n",
    "t1=t1+(1,2,3);\n",
    "print(t1);\n",
    "try:\n",
    "    t1=t1*(1,2,3);\n",
    "except Exception as e:\n",
    "    print(e);"
   ]
  },
  {
   "cell_type": "code",
   "execution_count": null,
   "id": "d637f7d5-ad67-467c-902b-0ddfb7fb00a9",
   "metadata": {},
   "outputs": [],
   "source": []
  }
 ],
 "metadata": {
  "kernelspec": {
   "display_name": "Python 3 (ipykernel)",
   "language": "python",
   "name": "python3"
  },
  "language_info": {
   "codemirror_mode": {
    "name": "ipython",
    "version": 3
   },
   "file_extension": ".py",
   "mimetype": "text/x-python",
   "name": "python",
   "nbconvert_exporter": "python",
   "pygments_lexer": "ipython3",
   "version": "3.11.5"
  }
 },
 "nbformat": 4,
 "nbformat_minor": 5
}
