{
 "cells": [
  {
   "cell_type": "code",
   "execution_count": 1,
   "id": "f0343bc3-7ccd-4bf0-b280-f5f2f6dd75f9",
   "metadata": {},
   "outputs": [
    {
     "name": "stdout",
     "output_type": "stream",
     "text": [
      "hai frinds these are python keywords:\n",
      "['False', 'None', 'True', 'and', 'as', 'assert', 'async', 'await', 'break', 'class', 'continue', 'def', 'del', 'elif', 'else', 'except', 'finally', 'for', 'from', 'global', 'if', 'import', 'in', 'is', 'lambda', 'nonlocal', 'not', 'or', 'pass', 'raise', 'return', 'try', 'while', 'with', 'yield']\n",
      "35\n",
      "\n",
      "Here is a list of the Python keywords.  Enter any keyword to get more help.\n",
      "\n",
      "False               class               from                or\n",
      "None                continue            global              pass\n",
      "True                def                 if                  raise\n",
      "and                 del                 import              return\n",
      "as                  elif                in                  try\n",
      "assert              else                is                  while\n",
      "async               except              lambda              with\n",
      "await               finally             nonlocal            yield\n",
      "break               for                 not                 \n",
      "\n"
     ]
    }
   ],
   "source": [
    "import keyword;\n",
    "print(\"hai frinds these are python keywords:\");\n",
    "print(keyword.kwlist);\n",
    "a=len(keyword.kwlist);\n",
    "print(a);\n",
    "help(\"keywords\");"
   ]
  },
  {
   "cell_type": "code",
   "execution_count": 3,
   "id": "9a1f9d78-f7a6-40d3-9b76-e66cadf355b2",
   "metadata": {},
   "outputs": [
    {
     "name": "stdout",
     "output_type": "stream",
     "text": [
      "True\n"
     ]
    },
    {
     "name": "stdin",
     "output_type": "stream",
     "text": [
      "None 2\n"
     ]
    },
    {
     "name": "stdout",
     "output_type": "stream",
     "text": [
      "False\n",
      "True\n",
      "False\n",
      "a is None\n",
      "b is 2\n",
      "c is None\n",
      "d is None\n",
      "0\n"
     ]
    }
   ],
   "source": [
    "True,False,None;\n",
    "\n",
    "b=input(print(3==3));\n",
    "a=print(4>9);\n",
    "z=True or False;\n",
    "c=print(z);\n",
    "d=print(True and False);\n",
    "print(\"a is\",a);\n",
    "print(\"b is\",b);\n",
    "print(\"c is\",c);\n",
    "print(\"d is\",d);\n",
    "a=0;\n",
    "print(a);"
   ]
  },
  {
   "cell_type": "code",
   "execution_count": 5,
   "id": "5a991485-b863-4894-8923-ff534b0b76c3",
   "metadata": {},
   "outputs": [
    {
     "name": "stdout",
     "output_type": "stream",
     "text": [
      "3\n",
      "0\n"
     ]
    }
   ],
   "source": [
    "print(True+True+True);\n",
    "print(False+False*False);"
   ]
  },
  {
   "cell_type": "code",
   "execution_count": 7,
   "id": "d1a84226-0ce2-490e-a073-07df0c342e9f",
   "metadata": {},
   "outputs": [
    {
     "name": "stdout",
     "output_type": "stream",
     "text": [
      "False\n",
      "False\n",
      "False\n",
      "False\n",
      "False\n",
      "True\n"
     ]
    }
   ],
   "source": [
    "print(None==0);\n",
    "print(None==True);\n",
    "print(None==False);\n",
    "print(None==\"\");\n",
    "print(None==[2,4,4,4,4]);\n",
    "A=None;\n",
    "B=None;\n",
    "print(A==B);"
   ]
  },
  {
   "cell_type": "code",
   "execution_count": 9,
   "id": "a9c5c60c-cb59-4fcf-97cd-9da4b197529e",
   "metadata": {},
   "outputs": [
    {
     "name": "stdout",
     "output_type": "stream",
     "text": [
      "1\n",
      "8\n",
      "None\n"
     ]
    }
   ],
   "source": [
    "def add(a,b):\n",
    "    print(a);\n",
    "    print(b);\n",
    "a=add(1,8);\n",
    "print(a); "
   ]
  },
  {
   "cell_type": "code",
   "execution_count": 11,
   "id": "cfa4fec1-c3fe-47d4-9cd7-b2c4e51f918d",
   "metadata": {},
   "outputs": [
    {
     "name": "stdout",
     "output_type": "stream",
     "text": [
      "9\n"
     ]
    }
   ],
   "source": [
    "def add(a,b):\n",
    "    return(a+b);   \n",
    "a=add(1,8);\n",
    "print(a);  "
   ]
  },
  {
   "cell_type": "code",
   "execution_count": 13,
   "id": "ddd9aaa3-38e7-427a-bd84-f44b71991318",
   "metadata": {},
   "outputs": [
    {
     "name": "stdout",
     "output_type": "stream",
     "text": [
      "None\n"
     ]
    }
   ],
   "source": [
    "def add(a,b):\n",
    "    if b%3==0:\n",
    "        return False;\n",
    "a=add(1,8);\n",
    "print(a); "
   ]
  },
  {
   "cell_type": "code",
   "execution_count": 15,
   "id": "0d38bf27-83bf-4c54-bcd3-8c24efe2332d",
   "metadata": {},
   "outputs": [
    {
     "name": "stdout",
     "output_type": "stream",
     "text": [
      "False\n",
      "True\n",
      "False\n",
      "False\n",
      "True\n"
     ]
    }
   ],
   "source": [
    "print(False and True);\n",
    "print(False or True);\n",
    "print(not True);\n",
    "s=\"SathishDornala\";\n",
    "print(\"A\"in s);\n",
    "print(\"s\"in s);"
   ]
  },
  {
   "cell_type": "code",
   "execution_count": 17,
   "id": "f567af21-b60a-4b32-843b-0ea8fda109f2",
   "metadata": {},
   "outputs": [
    {
     "name": "stdout",
     "output_type": "stream",
     "text": [
      "True\n",
      "False\n",
      "True\n",
      "False\n"
     ]
    }
   ],
   "source": [
    "print(True is True);\n",
    "print(False is True);\n",
    "print(None is not True);\n",
    "print([1,2] is [1,2]);"
   ]
  },
  {
   "cell_type": "code",
   "execution_count": 29,
   "id": "067455b6-f8a6-443c-8c21-5f7e5dd67c52",
   "metadata": {},
   "outputs": [
    {
     "name": "stdout",
     "output_type": "stream",
     "text": [
      "True\n",
      "False\n",
      "False\n",
      "False\n"
     ]
    }
   ],
   "source": [
    "import warnings\n",
    "warnings.filterwarnings(\"ignore\")\n",
    "print([]==[]);\n",
    "print([]==());\n",
    "print({} is {});\n",
    "print([] is ());"
   ]
  },
  {
   "cell_type": "code",
   "execution_count": 27,
   "id": "ba5ad664-2929-4fab-8a61-1cc745171403",
   "metadata": {},
   "outputs": [
    {
     "name": "stdout",
     "output_type": "stream",
     "text": [
      "True\n",
      "True\n",
      "False\n",
      "True\n"
     ]
    }
   ],
   "source": [
    "print(\"\"==\"\" );\n",
    "print(\"\"is\"\");\n",
    "print({} is {});\n",
    "print(() is ());"
   ]
  },
  {
   "cell_type": "code",
   "execution_count": 31,
   "id": "e26d8ed0-6018-4373-83fa-d1a185b7477e",
   "metadata": {},
   "outputs": [
    {
     "name": "stdout",
     "output_type": "stream",
     "text": [
      "10\n",
      "9\n"
     ]
    }
   ],
   "source": [
    "def outfun():\n",
    "    a=9;\n",
    "    def infun():\n",
    "        a=10;\n",
    "        print(a);\n",
    "    infun();\n",
    "    print(a);\n",
    "outfun();"
   ]
  },
  {
   "cell_type": "code",
   "execution_count": 33,
   "id": "7577096d-257e-4652-a1f8-e64ec464cfd4",
   "metadata": {},
   "outputs": [
    {
     "name": "stdout",
     "output_type": "stream",
     "text": [
      "ODD\n"
     ]
    }
   ],
   "source": [
    "def check(n):\n",
    "    if(n==1):\n",
    "        print(\"ODD\");\n",
    "    elif(n==0):\n",
    "        print(\"EVEN\");\n",
    "    else:\n",
    "        check(n-2);\n",
    "n=9;\n",
    "check(n);"
   ]
  },
  {
   "cell_type": "code",
   "execution_count": 35,
   "id": "99f6e2e8-ead8-4dc0-b66c-36399616b06d",
   "metadata": {},
   "outputs": [
    {
     "name": "stdout",
     "output_type": "stream",
     "text": [
      "10\n",
      "8\n",
      "6\n"
     ]
    }
   ],
   "source": [
    "for i in range(10,0,-2):\n",
    "    print(i);    \n",
    "    if(i==6):\n",
    "        break;   "
   ]
  },
  {
   "cell_type": "code",
   "execution_count": 37,
   "id": "67363aa3-0f40-44ba-9348-85ba094b3b70",
   "metadata": {},
   "outputs": [
    {
     "name": "stdout",
     "output_type": "stream",
     "text": [
      "1\n",
      "3\n",
      "4\n",
      "5\n"
     ]
    }
   ],
   "source": [
    "i=1;\n",
    "while(i<=5):\n",
    "    if(i==2):\n",
    "        i+=1;\n",
    "        continue;\n",
    "    else:\n",
    "        print(i);\n",
    "    i=i+1;\n"
   ]
  },
  {
   "cell_type": "code",
   "execution_count": 45,
   "id": "8b0ed8e5-14b8-41b4-a1a9-ef93f3f902e0",
   "metadata": {},
   "outputs": [
    {
     "name": "stdout",
     "output_type": "stream",
     "text": [
      "divide by zero!\n",
      "rest of the code!\n"
     ]
    }
   ],
   "source": [
    "a=3;\n",
    "b=0;\n",
    "try:\n",
    "    c=a/b;\n",
    "except ArithmeticError:\n",
    "    print(\"divide by zero!\");\n",
    "finally:\n",
    "    print(\"rest of the code!\");\n"
   ]
  },
  {
   "cell_type": "code",
   "execution_count": 47,
   "id": "d1f22a5f-c832-407a-9f1d-a566ddf57a6e",
   "metadata": {},
   "outputs": [
    {
     "name": "stdout",
     "output_type": "stream",
     "text": [
      "a is : 5\n"
     ]
    }
   ],
   "source": [
    "class A:\n",
    "    pass;  #null statement in python\n",
    "\n",
    "def add(a,b):\n",
    "    return a+b;\n",
    "a=add(1,4);\n",
    "print(\"a is :\",a);"
   ]
  },
  {
   "cell_type": "code",
   "execution_count": 51,
   "id": "eb0f0021-ee6b-4537-8af8-16e1fab879aa",
   "metadata": {},
   "outputs": [
    {
     "name": "stdout",
     "output_type": "stream",
     "text": [
      "7\n"
     ]
    }
   ],
   "source": [
    "a=10;\n",
    "b=7;\n",
    "del(a);\n",
    "print(b);\n",
    "#print(a); "
   ]
  },
  {
   "cell_type": "code",
   "execution_count": null,
   "id": "3c802f73-a165-43ca-9c2d-c563b95f53b4",
   "metadata": {},
   "outputs": [],
   "source": []
  }
 ],
 "metadata": {
  "kernelspec": {
   "display_name": "Python 3 (ipykernel)",
   "language": "python",
   "name": "python3"
  },
  "language_info": {
   "codemirror_mode": {
    "name": "ipython",
    "version": 3
   },
   "file_extension": ".py",
   "mimetype": "text/x-python",
   "name": "python",
   "nbconvert_exporter": "python",
   "pygments_lexer": "ipython3",
   "version": "3.11.5"
  }
 },
 "nbformat": 4,
 "nbformat_minor": 5
}
